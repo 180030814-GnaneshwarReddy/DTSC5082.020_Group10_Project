{
 "cells": [
  {
   "cell_type": "code",
   "execution_count": 3,
   "id": "eb4f58c6-f4ed-41a2-a4dd-eed965ae3399",
   "metadata": {},
   "outputs": [
    {
     "name": "stdout",
     "output_type": "stream",
     "text": [
      "✅ Saved 1045 matching reference summaries to 'deepseek-r1_matched_reference_summaries.csv'\n"
     ]
    }
   ],
   "source": [
    "import pandas as pd\n",
    "\n",
    "deepseek_df = pd.read_csv(\"clinical_text_summaries (deepseek-r1_32b).csv\")\n",
    "bhc_df = pd.read_csv(\"mimic-iv-bhc.csv\")\n",
    "\n",
    "deepseek_note_ids = set(deepseek_df['note_id'])\n",
    "\n",
    "# Step 2: Filter BHC rows where note_id is in llama\n",
    "bhc_matched1 = bhc_df[bhc_df['note_id'].isin(deepseek_note_ids)]\n",
    "\n",
    "# Step 3: Save only the BHC matched records\n",
    "bhc_matched1.to_csv(\"deepseek-r1_matched_reference_summaries.csv\", index=False)\n",
    "\n",
    "print(f\"✅ Saved {len(bhc_matched1)} matching reference summaries to 'deepseek-r1_matched_reference_summaries.csv'\")\n"
   ]
  },
  {
   "cell_type": "code",
   "execution_count": null,
   "id": "6d9359ff-dcd1-4f6a-ae9f-4d12db1d7175",
   "metadata": {},
   "outputs": [],
   "source": []
  }
 ],
 "metadata": {
  "kernelspec": {
   "display_name": "Python 3 (ipykernel)",
   "language": "python",
   "name": "python3"
  },
  "language_info": {
   "codemirror_mode": {
    "name": "ipython",
    "version": 3
   },
   "file_extension": ".py",
   "mimetype": "text/x-python",
   "name": "python",
   "nbconvert_exporter": "python",
   "pygments_lexer": "ipython3",
   "version": "3.13.3"
  }
 },
 "nbformat": 4,
 "nbformat_minor": 5
}
