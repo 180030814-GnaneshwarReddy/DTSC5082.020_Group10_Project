{
 "cells": [
  {
   "cell_type": "code",
   "execution_count": 2,
   "id": "9788e07a-84cd-4b51-93a4-9092f9176946",
   "metadata": {},
   "outputs": [
    {
     "name": "stdout",
     "output_type": "stream",
     "text": [
      " Saved 1,000 aligned records to 'bhc_reference_summaries(deepseek-r1).csv' and 'MIMIC-IV-deepseek-r1-summaries.csv'\n"
     ]
    }
   ],
   "source": [
    "import pandas as pd\n",
    "\n",
    "deepseek_r1_df = pd.read_csv(\"clinical_text_summaries (deepseek-r1_32b).csv\")\n",
    "bhc_df = pd.read_csv(\"deepseek-r1_matched_reference_summaries.csv\")\n",
    "\n",
    "bhc_1000 = bhc_df.head(1000)\n",
    "\n",
    "selected_ids = set(bhc_1000['note_id'])\n",
    "\n",
    "deepseek_r1_1000 = deepseek_r1_df[deepseek_r1_df['note_id'].isin(selected_ids)]\n",
    "\n",
    "bhc_1000.to_csv(\"bhc_reference_summaries(deepseek-r1).csv\", index=False)\n",
    "deepseek_r1_1000.to_csv(\"MIMIC-IV-deepseek-r1-summaries.csv\", index=False)\n",
    "\n",
    "print(f\" Saved 1,000 aligned records to 'bhc_reference_summaries(deepseek-r1).csv' and 'MIMIC-IV-deepseek-r1-summaries.csv'\")\n"
   ]
  },
  {
   "cell_type": "code",
   "execution_count": null,
   "id": "3b984b0a-0f2f-4f4e-bcef-bee3c8ee72b2",
   "metadata": {},
   "outputs": [],
   "source": []
  }
 ],
 "metadata": {
  "kernelspec": {
   "display_name": "Python 3 (ipykernel)",
   "language": "python",
   "name": "python3"
  },
  "language_info": {
   "codemirror_mode": {
    "name": "ipython",
    "version": 3
   },
   "file_extension": ".py",
   "mimetype": "text/x-python",
   "name": "python",
   "nbconvert_exporter": "python",
   "pygments_lexer": "ipython3",
   "version": "3.11.5"
  }
 },
 "nbformat": 4,
 "nbformat_minor": 5
}
