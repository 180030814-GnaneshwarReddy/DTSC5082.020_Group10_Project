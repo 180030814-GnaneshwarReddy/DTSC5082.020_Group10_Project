{
 "cells": [
  {
   "cell_type": "code",
   "execution_count": 1,
   "id": "89a6bdf8-f566-4ce8-a23b-0d40dbf15695",
   "metadata": {},
   "outputs": [
    {
     "name": "stdout",
     "output_type": "stream",
     "text": [
      "✅ Saved 1045 matching reference summaries to 'deepseek_bhc_matched_reference_summaries.csv'\n"
     ]
    }
   ],
   "source": [
    "import pandas as pd\n",
    "\n",
    "deepseek_df = pd.read_csv(\"clinical_text_summaries (deepseek-r1_32b).csv\")\n",
    "bhc_df = pd.read_csv(\"mimic-iv-bhc.csv\")\n",
    "\n",
    "deepseek_note_ids = set(deepseek_df['note_id'])\n",
    "\n",
    "deepseek_bhc_matched = bhc_df[bhc_df['note_id'].isin(deepseek_note_ids)]\n",
    "\n",
    "deepseek_bhc_matched.to_csv(\"deepseek_bhc_matched_reference_summaries.csv\", index=False)\n",
    "\n",
    "print(f\"✅ Saved {len(deepseek_bhc_matched)} matching reference summaries to 'deepseek_bhc_matched_reference_summaries.csv'\")\n"
   ]
  },
  {
   "cell_type": "code",
   "execution_count": 2,
   "id": "77124cf6-6344-468d-8a3e-67d7e77c242b",
   "metadata": {},
   "outputs": [
    {
     "name": "stdout",
     "output_type": "stream",
     "text": [
      "✅ Saved 1,000 aligned records to 'bhc_reference_samples(deepseek).csv' and 'deepseek_sample_summaries.csv'\n"
     ]
    }
   ],
   "source": [
    "import pandas as pd\n",
    "\n",
    "deepseek_df1 = pd.read_csv(\"clinical_text_summaries (deepseek-r1_32b).csv\")\n",
    "bhc_matched_df = pd.read_csv(\"deepseek_bhc_matched_reference_summaries.csv\")\n",
    "\n",
    "bhc_1000 = bhc_matched_df.head(1000)\n",
    "selected_ids = set(bhc_1000['note_id'])\n",
    "\n",
    "deepseek_1000 = deepseek_df1[deepseek_df1['note_id'].isin(selected_ids)]\n",
    "\n",
    "bhc_1000.to_csv(\"bhc_reference_samples(deepseek).csv\", index=False)\n",
    "deepseek_1000.to_csv(\"deepseek_sample_summaries.csv\", index=False)\n",
    "\n",
    "print(f\"✅ Saved 1,000 aligned records to 'bhc_reference_samples(deepseek).csv' and 'deepseek_sample_summaries.csv'\")\n"
   ]
  },
  {
   "cell_type": "code",
   "execution_count": null,
   "id": "3da11071-296c-43d3-92d3-4acd205a52f6",
   "metadata": {},
   "outputs": [],
   "source": []
  }
 ],
 "metadata": {
  "kernelspec": {
   "display_name": "Python 3 (ipykernel)",
   "language": "python",
   "name": "python3"
  },
  "language_info": {
   "codemirror_mode": {
    "name": "ipython",
    "version": 3
   },
   "file_extension": ".py",
   "mimetype": "text/x-python",
   "name": "python",
   "nbconvert_exporter": "python",
   "pygments_lexer": "ipython3",
   "version": "3.13.3"
  }
 },
 "nbformat": 4,
 "nbformat_minor": 5
}
