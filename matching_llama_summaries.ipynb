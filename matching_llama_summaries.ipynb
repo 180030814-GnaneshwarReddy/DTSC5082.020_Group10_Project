{
 "cells": [
  {
   "cell_type": "code",
   "execution_count": 2,
   "id": "0c65b808-79d6-4bc7-879a-6c75aaae0478",
   "metadata": {},
   "outputs": [
    {
     "name": "stdout",
     "output_type": "stream",
     "text": [
      " Saved 1,000 aligned records to 'bhc_reference_1000.csv' and 'llama_summaries_1000.csv'\n"
     ]
    }
   ],
   "source": [
    "import pandas as pd\n",
    "\n",
    "llama_df = pd.read_csv(\"clinical_text_summaries (llama3).csv\")\n",
    "bhc_df = pd.read_csv(\"mimic-iv-bhc.csv\")\n",
    "\n",
    "bhc_1000 = bhc_df.head(1000)\n",
    "\n",
    "selected_ids = set(bhc_1000['note_id'])\n",
    "\n",
    "llama_1000 = llama_df[llama_df['note_id'].isin(selected_ids)]\n",
    "\n",
    "bhc_1000.to_csv(\"bhc_reference_summaries.csv\", index=False)\n",
    "llama_1000.to_csv(\"MIMIC-IV-llama3-summaries.csv\", index=False)\n",
    "\n",
    "print(f\" Saved 1,000 aligned records to 'bhc_reference_1000.csv' and 'llama_summaries_1000.csv'\")\n"
   ]
  },
  {
   "cell_type": "code",
   "execution_count": null,
   "id": "d14bf56e-db79-4430-94c0-b517362869dd",
   "metadata": {},
   "outputs": [],
   "source": []
  }
 ],
 "metadata": {
  "kernelspec": {
   "display_name": "Python 3 (ipykernel)",
   "language": "python",
   "name": "python3"
  },
  "language_info": {
   "codemirror_mode": {
    "name": "ipython",
    "version": 3
   },
   "file_extension": ".py",
   "mimetype": "text/x-python",
   "name": "python",
   "nbconvert_exporter": "python",
   "pygments_lexer": "ipython3",
   "version": "3.11.5"
  }
 },
 "nbformat": 4,
 "nbformat_minor": 5
}
